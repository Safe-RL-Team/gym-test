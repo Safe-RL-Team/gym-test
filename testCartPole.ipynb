{
 "cells": [
  {
   "cell_type": "code",
   "execution_count": null,
   "metadata": {},
   "outputs": [],
   "source": [
    "# imports\n",
    "import numpy as np\n",
    "import time\n",
    "import gym"
   ]
  },
  {
   "cell_type": "code",
   "execution_count": null,
   "metadata": {},
   "outputs": [],
   "source": [
    "# find best\n",
    "env = gym.make(\"CartPole-v1\")\n",
    "observation, info = env.reset(seed=42, return_info=True)\n",
    "\n",
    "w_best = np.zeros(4)\n",
    "best_score = 0\n",
    "\n",
    "# try many random weights\n",
    "for i in range(100):\n",
    "\n",
    "    # reset environment\n",
    "    observation, info = env.reset(return_info=True)\n",
    "    score = 0\n",
    "\n",
    "    # generate random neuron weights\n",
    "    w = np.random.uniform(-1, 1, 4)\n",
    "\n",
    "    action = env.action_space.sample()\n",
    "    for i in range(1000):\n",
    "        observation, reward, done, info = env.step(action)\n",
    "\n",
    "        # one neuron model\n",
    "        action = 1 if (w * observation).mean() > 0 else 0\n",
    "\n",
    "        score += reward\n",
    "\n",
    "        if done:\n",
    "            break\n",
    "    \n",
    "    if score > best_score:\n",
    "        print(f'found new best score: {score}')\n",
    "        best_score = score\n",
    "        w_best = w\n",
    "\n",
    "env.close()\n",
    "\n",
    "print('best:', best_score, w_best)"
   ]
  },
  {
   "cell_type": "code",
   "execution_count": null,
   "metadata": {},
   "outputs": [],
   "source": [
    "w = w_best # or alternatively random: np.random.uniform(size=4)\n",
    "\n",
    "\n",
    "env = gym.make(\"CartPole-v1\")\n",
    "observation, info = env.reset(seed=42, return_info=True)\n",
    "\n",
    "action = env.action_space.sample()\n",
    "for i in range(200):\n",
    "    observation, reward, done, info = env.step(action)\n",
    "\n",
    "    # one neuron model\n",
    "    action = 1 if (w * observation).mean() > 0 else 0\n",
    "\n",
    "    env.render(mode = \"human\")\n",
    "    print(f'\\rstep {i+1}, observation {observation}, reward: {reward}, done: {done}, action: {action}', end=' '*20)\n",
    "    time.sleep(0.03)\n",
    "\n",
    "    # if done:\n",
    "    #     observation, info = env.reset(return_info=True)\n",
    "# env_screen = env.render(mode = 'rgb_array')\n",
    "\n",
    "time.sleep(1)\n",
    "env.close()"
   ]
  },
  {
   "cell_type": "markdown",
   "metadata": {},
   "source": [
    "## Results\n",
    "\n",
    "Mostly we find a good super powerful and resilient AI. But sometimes we don't, maybe because the initial action is random, which can cause a different starting state confusing non-resilient AIs?"
   ]
  }
 ],
 "metadata": {
  "interpreter": {
   "hash": "c688f85398a5b52460b6a5f7acf39fd2fbe47bdf51686d1f2e80faf88b7deca3"
  },
  "kernelspec": {
   "display_name": "Python 3.8.10 ('gym-test': venv)",
   "language": "python",
   "name": "python3"
  },
  "language_info": {
   "codemirror_mode": {
    "name": "ipython",
    "version": 3
   },
   "file_extension": ".py",
   "mimetype": "text/x-python",
   "name": "python",
   "nbconvert_exporter": "python",
   "pygments_lexer": "ipython3",
   "version": "3.8.10"
  },
  "orig_nbformat": 4
 },
 "nbformat": 4,
 "nbformat_minor": 2
}
